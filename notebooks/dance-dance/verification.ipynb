{
 "cells": [
  {
   "cell_type": "code",
   "execution_count": 1,
   "metadata": {},
   "outputs": [],
   "source": [
    "from finn.core.modelwrapper import ModelWrapper\n",
    "import finn.core.onnx_exec as oxe\n",
    "import numpy as np\n",
    "\n",
    "base_dir = \"/workspace/finn/notebooks/dance-dance\"\n",
    "onnx_dir = f\"{base_dir}/onnx\"\n",
    "verification_dir = f\"{base_dir}/verification\""
   ]
  },
  {
   "cell_type": "code",
   "execution_count": 2,
   "metadata": {},
   "outputs": [],
   "source": [
    "def compare(a, b):\n",
    "    if np.isclose(a, b, atol=1e-3).all():\n",
    "        print(\"Results are the same.\")\n",
    "    else:\n",
    "        print(\"Results are not the same.\")"
   ]
  },
  {
   "cell_type": "markdown",
   "metadata": {},
   "source": [
    "### Load input"
   ]
  },
  {
   "cell_type": "code",
   "execution_count": 3,
   "metadata": {},
   "outputs": [],
   "source": [
    "ibuf_normal = np.load(f\"{verification_dir}/input.npy\").astype(np.float32)\n",
    "input_dict = {\"global_in\": ibuf_normal}"
   ]
  },
  {
   "cell_type": "markdown",
   "metadata": {},
   "source": [
    "### Golden model"
   ]
  },
  {
   "cell_type": "code",
   "execution_count": 4,
   "metadata": {},
   "outputs": [],
   "source": [
    "model = ModelWrapper(f\"{onnx_dir}/dance-dance_tidy.onnx\")\n",
    "\n",
    "output_dict_golden = oxe.execute_onnx(model, input_dict)\n",
    "output_golden = output_dict_golden['global_out']"
   ]
  },
  {
   "cell_type": "markdown",
   "metadata": {},
   "source": [
    "### Python simulation"
   ]
  },
  {
   "cell_type": "code",
   "execution_count": 5,
   "metadata": {},
   "outputs": [
    {
     "name": "stdout",
     "output_type": "stream",
     "text": [
      "Results are the same.\n"
     ]
    }
   ],
   "source": [
    "model = ModelWrapper(f\"{onnx_dir}/dance-dance_streamlined.onnx\")\n",
    "                     \n",
    "output_dict_python = oxe.execute_onnx(model, input_dict)\n",
    "output_python = output_dict_python['global_out']\n",
    "compare(output_python, output_golden)"
   ]
  },
  {
   "cell_type": "markdown",
   "metadata": {},
   "source": [
    "### C++ simulation"
   ]
  },
  {
   "cell_type": "code",
   "execution_count": 6,
   "metadata": {},
   "outputs": [],
   "source": [
    "from finn.transformation.general import GiveUniqueNodeNames\n",
    "from finn.transformation.fpgadataflow.prepare_cppsim import PrepareCppSim\n",
    "from finn.transformation.fpgadataflow.compile_cppsim import CompileCppSim\n",
    "from finn.transformation.fpgadataflow.set_exec_mode import SetExecMode\n",
    "\n",
    "model = ModelWrapper(f\"{onnx_dir}/dance-dance_fold.onnx\")\n",
    "\n",
    "model = model.transform(GiveUniqueNodeNames())\n",
    "model = model.transform(PrepareCppSim())\n",
    "model = model.transform(CompileCppSim())\n",
    "model = model.transform(SetExecMode(\"cppsim\"))\n",
    "\n",
    "model.save(f\"{onnx_dir}/dance-dance_cppsim.onnx\")"
   ]
  },
  {
   "cell_type": "code",
   "execution_count": 7,
   "metadata": {},
   "outputs": [
    {
     "name": "stdout",
     "output_type": "stream",
     "text": [
      "Results are the same.\n"
     ]
    }
   ],
   "source": [
    "from finn.custom_op.registry import getCustomOp\n",
    "\n",
    "parent_model = ModelWrapper(f\"{onnx_dir}/dance-dance_dataflow_parent.onnx\")\n",
    "sdp_node = parent_model.get_nodes_by_op_type(\"StreamingDataflowPartition\")[0]\n",
    "child_model_filename = f\"{onnx_dir}/dance-dance_cppsim.onnx\"\n",
    "getCustomOp(sdp_node).set_nodeattr(\"model\", child_model_filename)\n",
    "\n",
    "output_dict_cppsim = oxe.execute_onnx(parent_model, input_dict)\n",
    "output_cppsim = output_dict_cppsim['global_out']\n",
    "compare(output_cppsim, output_golden)"
   ]
  },
  {
   "cell_type": "markdown",
   "metadata": {},
   "source": [
    "### PyVerilator simulation"
   ]
  },
  {
   "cell_type": "code",
   "execution_count": 8,
   "metadata": {},
   "outputs": [],
   "source": [
    "from finn.util.basic import pynq_part_map\n",
    "from finn.transformation.general import GiveUniqueNodeNames\n",
    "from finn.transformation.fpgadataflow.prepare_ip import PrepareIP\n",
    "from finn.transformation.fpgadataflow.hlssynth_ip import HLSSynthIP\n",
    "from finn.transformation.fpgadataflow.set_exec_mode import SetExecMode\n",
    "from finn.transformation.fpgadataflow.prepare_rtlsim import PrepareRTLSim\n",
    "\n",
    "pynq_board = \"Ultra96\"\n",
    "fpga_part = pynq_part_map[pynq_board]\n",
    "target_clk_ns = 10\n",
    "\n",
    "child_model = ModelWrapper(f\"{onnx_dir}/dance-dance_fold.onnx\")\n",
    "\n",
    "child_model = child_model.transform(GiveUniqueNodeNames())\n",
    "child_model = child_model.transform(PrepareIP(fpga_part, target_clk_ns))\n",
    "child_model = child_model.transform(HLSSynthIP())\n",
    "child_model = child_model.transform(SetExecMode(\"rtlsim\"))\n",
    "child_model = child_model.transform(PrepareRTLSim())\n",
    "\n",
    "child_model.save(f\"{onnx_dir}/dance-dance_dataflow_child.onnx\")"
   ]
  },
  {
   "cell_type": "code",
   "execution_count": 9,
   "metadata": {},
   "outputs": [
    {
     "name": "stdout",
     "output_type": "stream",
     "text": [
      "Results are the same.\n"
     ]
    }
   ],
   "source": [
    "from finn.custom_op.registry import getCustomOp\n",
    "from finn.transformation.fpgadataflow.set_exec_mode import SetExecMode\n",
    "\n",
    "parent_model = ModelWrapper(f\"{onnx_dir}/dance-dance_dataflow_parent.onnx\")\n",
    "sdp_node = parent_model.get_nodes_by_op_type(\"StreamingDataflowPartition\")[0]\n",
    "sdp_node = getCustomOp(sdp_node)\n",
    "sdp_node.set_nodeattr(\"model\", f\"{onnx_dir}/dance-dance_dataflow_child.onnx\")\n",
    "parent_model = parent_model.transform(SetExecMode(\"rtlsim\"))\n",
    "\n",
    "output_dict_verilator = oxe.execute_onnx(parent_model, input_dict)\n",
    "output_verilator = output_dict_verilator['global_out']\n",
    "compare(output_verilator, output_golden)"
   ]
  },
  {
   "cell_type": "code",
   "execution_count": null,
   "metadata": {},
   "outputs": [],
   "source": []
  }
 ],
 "metadata": {
  "kernelspec": {
   "display_name": "Python 3",
   "language": "python",
   "name": "python3"
  },
  "language_info": {
   "codemirror_mode": {
    "name": "ipython",
    "version": 3
   },
   "file_extension": ".py",
   "mimetype": "text/x-python",
   "name": "python",
   "nbconvert_exporter": "python",
   "pygments_lexer": "ipython3",
   "version": "3.6.8"
  }
 },
 "nbformat": 4,
 "nbformat_minor": 4
}
